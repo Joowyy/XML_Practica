{
 "cells": [
  {
   "cell_type": "markdown",
   "metadata": {},
   "source": [
    "# XML: Creación, Validación y Utilización\n",
    "## Entidades en los DTD\n",
    "Una entidad en un DTD es equivalente a una constante en programación. Al definir una entidad, se le asigna un nombre y un valor que sustituirá a las referencias a dicho nombre. Las entidades pueden ser internas o externas."
   ]
  },
  {
   "cell_type": "markdown",
   "metadata": {},
   "source": [
    "### Definición de una entidad interna\n",
    "La sintaxis para declarar una entidad interna es la siguiente:"
   ]
  },
  {
   "cell_type": "code",
   "execution_count": null,
   "metadata": {},
   "outputs": [],
   "source": [
    "<!ENTITY nombre-entidad \"texto de reemplazo\">"
   ]
  },
  {
   "cell_type": "markdown",
   "metadata": {},
   "source": [
    "Ejemplo de uso en un documento XML:"
   ]
  },
  {
   "cell_type": "code",
   "execution_count": null,
   "metadata": {
    "vscode": {
     "languageId": "xml"
    }
   },
   "outputs": [],
   "source": [
    "<?xml version=\"1.0\" encoding=\"UTF-8\"?>\n",
    "<!DOCTYPE fichas [\n",
    "  <!ENTITY poblacion \"Tejeda de Tiétar, Cáceres\">\n",
    "]>\n",
    "<fichas>\n",
    "  <ficha>\n",
    "    <empresa nombre=\"Tractores Toledo\"></empresa>\n",
    "    <direccion>&poblacion;</direccion>\n",
    "  </ficha>\n",
    "  <ficha>\n",
    "    <empresa nombre=\"Congelados Kurylenko\"></empresa>\n",
    "    <direccion>&poblacion;</direccion>\n",
    "  </ficha>\n",
    "</fichas>"
   ]
  },
  {
   "cell_type": "markdown",
   "metadata": {},
   "source": [
    "## Entidades Externas\n",
    "Las entidades externas pueden ser públicas o privadas. Se definen fuera del DTD."
   ]
  },
  {
   "cell_type": "code",
   "execution_count": null,
   "metadata": {
    "vscode": {
     "languageId": "xml"
    }
   },
   "outputs": [],
   "source": [
    "<!ENTITY nombre-entidad SYSTEM \"URI/URL\">"
   ]
  },
  {
   "cell_type": "markdown",
   "metadata": {},
   "source": [
    "Ejemplo de aplicación de entidades internas y externas:"
   ]
  },
  {
   "cell_type": "code",
   "execution_count": null,
   "metadata": {
    "vscode": {
     "languageId": "xml"
    }
   },
   "outputs": [],
   "source": [
    "<?xml version=\"1.0\" encoding=\"UTF-8\"?>\n",
    "<!DOCTYPE fichas [\n",
    "  <!ENTITY poblacion \"Tejeda de Tiétar\">\n",
    "  <!ENTITY provincia SYSTEM \"provincia.txt\">\n",
    "  <!ENTITY detalle SYSTEM \"ficha.xml\">\n",
    "]>\n",
    "<fichas>\n",
    "    <poblacion>&poblacion;</poblacion>\n",
    "    <provincia>&provincia;</provincia>\n",
    "    <detalle>&detalle;</detalle>\n",
    "</fichas>"
   ]
  },
  {
   "cell_type": "markdown",
   "metadata": {},
   "source": [
    "O esta otra:"
   ]
  },
  {
   "cell_type": "code",
   "execution_count": null,
   "metadata": {
    "vscode": {
     "languageId": "xml"
    }
   },
   "outputs": [],
   "source": [
    "<?xml version=\"1.0\" encoding=\"UTF-8\"?>\n",
    "<!DOCTYPE fichas [\n",
    "<!ENTITY poblacion \"Tejeda de Tiétar\">\n",
    "<!ENTITY provincia SYSTEM \"https://127.0.0.1:80/mis xml/provincia.txt\">\n",
    "<!ENTITY detalle SYSTEM \"https://127.0.0.1:80/mis xml/ficha.xml\">\n",
    "]>\n",
    "<fichas>\n",
    "    <poblacion>&poblacion;</poblacion>\n",
    "    <provincia>&provincia;</provincia>\n",
    "    <detalle>&detalle;</detalle>\n",
    "</fichas>"
   ]
  },
  {
   "cell_type": "markdown",
   "metadata": {},
   "source": [
    "El contenido de provincia.txt sería:\n",
    "\n",
    "Cáceres\n",
    "\n",
    "El contenido de ficha.xml es:"
   ]
  },
  {
   "cell_type": "code",
   "execution_count": null,
   "metadata": {
    "vscode": {
     "languageId": "xml"
    }
   },
   "outputs": [],
   "source": [
    "<distribuidores>\n",
    "    <codigo>10834</codigo>\n",
    "    <description>Distribuidores oficiales</description>\n",
    "</distribuidores>"
   ]
  },
  {
   "cell_type": "markdown",
   "metadata": {},
   "source": [
    "La salida será:"
   ]
  },
  {
   "cell_type": "code",
   "execution_count": null,
   "metadata": {
    "vscode": {
     "languageId": "xml"
    }
   },
   "outputs": [],
   "source": [
    "<?xml version=\"1.0\" encoding=\"UTF-8\"?>\n",
    "<fichas>\n",
    "    <poblacion>Tejeda de Tiétar</poblacion>\n",
    "    <provincia>Cáceres</provincia>\n",
    "    <detalle>\n",
    "        <distribuidores>\n",
    "            <codigo>10834</codigo>\n",
    "            <description>Distribuidores oficiales</description>\n",
    "        </distribuidores>\n",
    "    </detalle>\n",
    "</fichas>"
   ]
  },
  {
   "cell_type": "markdown",
   "metadata": {},
   "source": [
    "Debido a la seguridad aplicada a los navegadores de internent los DTD, no son ejecutados, para proteger al equipo de un ataque XXE (XML External Entity)."
   ]
  },
  {
   "cell_type": "code",
   "execution_count": null,
   "metadata": {},
   "outputs": [],
   "source": [
    "from lxml import etree\n",
    "\n",
    "# Habilitar la resolución de entidades externas\n",
    "varParser = etree.XMLParser(resolve_entities=True, load_dtd=True, no_network=False)\n",
    "\n",
    "# Cargar el archivo XML\n",
    "xml_path = \"ejercicio2.xml\"  # Ruta a tu archivo XML\n",
    "elParser = etree.parse(xml_path, varParser)\n",
    "\n",
    "# Mostrar el XML procesado\n",
    "print(etree.tostring(elParser, pretty_print=True).decode())"
   ]
  },
  {
   "cell_type": "markdown",
   "metadata": {},
   "source": [
    "## Notaciones en XML\n",
    "Las notaciones se utilizan para identificar el formato de entidades que no serán procesadas o para definir valores válidos en atributos."
   ]
  },
  {
   "cell_type": "code",
   "execution_count": null,
   "metadata": {},
   "outputs": [],
   "source": [
    "<!NOTATION nombre SYSTEM \"URI\">"
   ]
  },
  {
   "cell_type": "markdown",
   "metadata": {},
   "source": [
    "## Ejemplo de DTD interno\n",
    "Un DTD interno define la estructura esperada de un documento XML dentro del propio documento."
   ]
  },
  {
   "cell_type": "code",
   "execution_count": null,
   "metadata": {},
   "outputs": [],
   "source": [
    "<?xml version=\"1.0\" encoding=\"UTF-8\"?>\n",
    "<!DOCTYPE cv [\n",
    "  <!ELEMENT cv (nombre, direccion, telefono, fax?, email+, idiomas)>\n",
    "  <!ELEMENT nombre (#PCDATA)>\n",
    "  <!ELEMENT direccion (#PCDATA)>\n",
    "  <!ELEMENT telefono (#PCDATA)>\n",
    "  <!ELEMENT fax (#PCDATA)>\n",
    "  <!ELEMENT email (#PCDATA)>\n",
    "  <!ELEMENT idiomas (idioma*)>\n",
    "  <!ELEMENT idioma (#PCDATA)>\n",
    "]>\n",
    "<cv>\n",
    "  <nombre>Desmond Miles</nombre>\n",
    "  <direccion>Black Hills, Dakota del Sur, EE.UU.</direccion>\n",
    "  <telefono>+1-555-73-66-58</telefono>\n",
    "  <email>desmond.miles@servidordeprueba.org</email>\n",
    "  <email>desmond.miles@otroservidor.fr</email>\n",
    "  <idiomas>\n",
    "    <idioma>Francés</idioma>\n",
    "    <idioma>Inglés</idioma>\n",
    "    <idioma>Italiano</idioma>\n",
    "  </idiomas>\n",
    "</cv>"
   ]
  },
  {
   "cell_type": "markdown",
   "metadata": {},
   "source": [
    "### 1. `<!ELEMENT cv (nombre, direccion, telefono, fax?, email+, idiomas)>`\n",
    "\n",
    "Esta declaración define la estructura del elemento `<cv>`. Indica que el elemento `<cv>` debe contener los siguientes elementos en el orden especificado:\n",
    "\n",
    "- **`nombre`**: Un elemento obligatorio que debe aparecer exactamente una vez.\n",
    "- **`direccion`**: Un elemento obligatorio que debe aparecer exactamente una vez.\n",
    "- **`telefono`**: Un elemento obligatorio que debe aparecer exactamente una vez.\n",
    "- **`fax?`**: Un elemento opcional (indicado por el signo `?`), que puede aparecer una vez o no aparecer.\n",
    "- **`email+`**: Uno o más elementos `email` (indicado por el signo `+`). Debe haber al menos un elemento `email`, pero puede haber varios.\n",
    "- **`idiomas`**: Un elemento obligatorio que debe aparecer exactamente una vez.\n",
    "\n",
    "En resumen, el elemento `<cv>` debe tener exactamente un `<nombre>`, una `<direccion>`, un `<telefono>`, opcionalmente un `<fax>`, uno o más `<email>`, y exactamente un `<idiomas>`.\n",
    "\n",
    "---\n",
    "\n",
    "### 2. `<!ELEMENT idiomas (idioma*)>`\n",
    "\n",
    "Esta declaración define la estructura del elemento `<idiomas>`. Indica que el elemento `<idiomas>` puede contener cero o más elementos `<idioma>` (indicado por el signo `*`).\n",
    "\n",
    "- **`idioma*`**: Puede haber cero o más elementos `<idioma>` dentro de `<idiomas>`.\n",
    "\n",
    "En resumen, el elemento `<idiomas>` puede estar vacío o contener cualquier número de elementos `<idioma>`.\n",
    "\n",
    "---\n",
    "\n",
    "### Ejemplo en el XML proporcionado:"
   ]
  },
  {
   "cell_type": "code",
   "execution_count": null,
   "metadata": {
    "vscode": {
     "languageId": "xml"
    }
   },
   "outputs": [],
   "source": [
    "<?xml version=\"1.0\" encoding=\"UTF-8\"?>\n",
    "<cv>\n",
    "  <nombre>Desmond Miles</nombre>\n",
    "  <direccion>Black Hills, Dakota del Sur, EE.UU.</direccion>\n",
    "  <telefono>+1-555-73-66-58</telefono>\n",
    "  <email>desmond.miles@servidordeprueba.org</email>\n",
    "  <email>desmond.miles@otroservidor.fr</email>\n",
    "  <idiomas>\n",
    "    <idioma>Francés</idioma>\n",
    "    <idioma>Inglés</idioma>\n",
    "    <idioma>Italiano</idioma>\n",
    "  </idiomas>\n",
    "</cv>"
   ]
  },
  {
   "cell_type": "markdown",
   "metadata": {},
   "source": [
    "<h3><code>&lt;EMPTY&gt;</code></h3>\n",
    "\n",
    "Elementos vacíos: Si un elemento no tiene contenido, se declara como EMPTY.\n",
    "\n",
    "Ejemplo:`<!ELEMENT br EMPTY>` (para un salto de línea en HTML)."
   ]
  },
  {
   "cell_type": "markdown",
   "metadata": {},
   "source": [
    "<body>\n",
    "  <h3><code>&lt;!ATTLIST&gt;</code></h3>\n",
    "  <p>Esta declaración define los atributos de un elemento. Los atributos permiten añadir información adicional a los elementos en un documento XML.</p>\n",
    "\n",
    "  <h4>Estructura:</h4>\n",
    "  <pre><code>&lt;!ATTLIST nombre_elemento\n",
    "  nombre_atributo valores_admitidos valor_por_defecto&gt;\n",
    "</code></pre>\n",
    "\n",
    "  <h4>Ejemplo:</h4>\n",
    "  <pre><code>&lt;!ATTLIST idioma\n",
    "  nivel (basico | intermedio | avanzado) \"basico\"\n",
    "  codigo CDATA #REQUIRED&gt;\n",
    "</code></pre>\n",
    "\n",
    "  <ul>\n",
    "    <li><strong><code>nivel</code></strong>: Un atributo con valores predefinidos (<code>basico</code>, <code>intermedio</code>, <code>avanzado</code>) y un valor por defecto (<code>\"basico\"</code>).</li>\n",
    "    <li><strong><code>codigo</code></strong>: Un atributo obligatorio (<code>#REQUIRED</code>) que acepta cualquier texto (<code>CDATA</code>).</li>\n",
    "  </ul>\n",
    "\n",
    "  <h4>Tipos de atributos:</h4>\n",
    "  <ul>\n",
    "    <li><strong><code>CDATA</code></strong>: Texto sin formato.</li>\n",
    "    <li><strong>Diferencia clave:</strong></li>\n",
    "    <p>PCDATA es analizado por el analizador XML, lo que significa que las etiquetas y entidades se interpretan.</p>\n",
    "    <p>CDATA no es analizado, por lo que el contenido se trata como texto plano, incluso si contiene caracteres especiales o etiquetas.</p>\n",
    "    <li><strong>Valores predefinidos</strong>: Lista de valores posibles, como <code>(basico | intermedio | avanzado)</code>.</li>\n",
    "    <li><strong><code>#REQUIRED</code></strong>: El atributo es obligatorio.</li>\n",
    "    <li><strong><code>#IMPLIED</code></strong>: El atributo es opcional.</li>\n",
    "    <li><strong><code>#FIXED</code></strong>: El atributo tiene un valor fijo que no puede cambiarse.</li>\n",
    "  </ul>\n",
    "\n",
    "  <p>En resumen, los atributos permiten añadir detalles adicionales a los elementos, como valores predefinidos, texto libre, o indicar si son obligatorios u opcionales.</p>\n",
    "\n",
    "  <hr>\n",
    "\n",
    "  <h3><code>Elementos opcionales y alternativos</code></h3>\n",
    "\n",
    "  <h4>Elementos opcionales:</h4>\n",
    "  <ul>\n",
    "    <li><strong><code>?</code></strong>: El elemento puede aparecer <strong>0 o 1 vez</strong>.</li>\n",
    "    <li><strong><code>*</code></strong>: El elemento puede aparecer <strong>0 o más veces</strong>.</li>\n",
    "  </ul>\n",
    "\n",
    "  <h4>Elementos alternativos:</h4>\n",
    "  <p>Usando el operador <code>|</code> para indicar que solo uno de los elementos puede aparecer.</p>\n",
    "\n",
    "  <h4>Ejemplo:</h4>\n",
    "  <pre><code>&lt;!ELEMENT contacto (email | telefono)&gt;\n",
    "</code></pre>\n",
    "  <p>Aquí, el elemento <code>&lt;contacto&gt;</code> puede contener <strong>o bien</strong> un <code>&lt;email&gt;</code> <strong>o bien</strong> un <code>&lt;telefono&gt;</code>, pero no ambos.</p>\n",
    "\n",
    "  <h4>Combinación de opciones:</h4>\n",
    "  <p>Puedes combinar cardinalidad y alternativas.</p>\n",
    "  <h5>Ejemplo:</h5>\n",
    "  <pre><code>&lt;!ELEMENT contacto (email | telefono)*&gt;\n",
    "</code></pre>\n",
    "  <p>Esto permite que el elemento <code>&lt;contacto&gt;</code> contenga <strong>cero o más</strong> elementos, que pueden ser <code>&lt;email&gt;</code> o <code>&lt;telefono&gt;</code> en cualquier orden.</p>\n",
    "\n",
    "  <p>En resumen, los elementos opcionales y alternativos permiten flexibilidad en la estructura del XML, pudiendo elegir entre diferentes opciones o permitir que algunos elementos no estén presentes.</p>\n",
    "\n",
    "  <hr>\n",
    "\n",
    "  <h3>Ejemplo en XML:</h3>\n",
    "  </body>\n",
    "</html>\n"
   ]
  },
  {
   "cell_type": "code",
   "execution_count": null,
   "metadata": {
    "vscode": {
     "languageId": "xml"
    }
   },
   "outputs": [],
   "source": [
    "<?xml version=\"1.0\" encoding=\"UTF-8\"?>\n",
    "<cv>\n",
    "  <nombre>Desmond Miles</nombre>\n",
    "  <direccion>Black Hills, Dakota del Sur, EE.UU.</direccion>\n",
    "  <telefono>+1-555-73-66-58</telefono>\n",
    "  <email>desmond.miles@servidordeprueba.org</email>\n",
    "  <email>desmond.miles@otroservidor.fr</email>\n",
    "  <idiomas>\n",
    "    <idioma nivel=\"avanzado\" codigo=\"FR\">Francés</idioma>\n",
    "    <idioma nivel=\"intermedio\" codigo=\"EN\">Inglés</idioma>\n",
    "    <idioma nivel=\"basico\" codigo=\"IT\">Italiano</idioma>\n",
    "  </idiomas>\n",
    "  <contacto>\n",
    "    <email>desmond.miles@contacto.com</email>\n",
    "  </contacto>\n",
    "</cv>"
   ]
  },
  {
   "cell_type": "markdown",
   "metadata": {},
   "source": [
    "\n",
    "  <ul>\n",
    "    <li>El atributo <code>nivel</code> en <code>&lt;idioma&gt;</code> tiene valores predefinidos y un valor por defecto.</li>\n",
    "    <li>El atributo <code>codigo</code> es obligatorio y acepta cualquier texto.</li>\n",
    "    <li>El elemento <code>&lt;contacto&gt;</code> contiene un <code>&lt;email&gt;</code>, pero también podría contener un <code>&lt;telefono&gt;</code>.</li>\n",
    "  </ul>\n"
   ]
  },
  {
   "cell_type": "markdown",
   "metadata": {},
   "source": [
    "  <h3>Orden de los elementos</h3>\n",
    "  <p>\n",
    "    Los elementos deben aparecer en el <strong>orden exacto</strong> en que se declaran en la DTD.\n",
    "  </p>\n",
    "\n",
    "  <h4>Ejemplo:</h4>\n",
    "  <p>\n",
    "    En la declaración:\n",
    "  </p>\n",
    "  <pre><code>&lt;!ELEMENT cv (nombre, direccion, telefono, fax?, email+, idiomas)&gt;</code></pre>\n",
    "  <p>\n",
    "    El orden de los elementos debe ser:\n",
    "  </p>\n",
    "  <ol>\n",
    "    <li><code>&lt;nombre&gt;</code></li>\n",
    "    <li><code>&lt;direccion&gt;</code></li>\n",
    "    <li><code>&lt;telefono&gt;</code></li>\n",
    "    <li><code>&lt;fax&gt;</code> (opcional, puede aparecer una vez o no aparecer)</li>\n",
    "    <li><code>&lt;email&gt;</code> (uno o más)</li>\n",
    "    <li><code>&lt;idiomas&gt;</code></li>\n",
    "  </ol>\n",
    "\n",
    "  <h4>¿Qué pasa si no se respeta el orden?</h4>\n",
    "  <p>\n",
    "    Si los elementos no aparecen en el orden especificado en la DTD, el documento XML se considerará <strong>inválido</strong>.\n",
    "  </p>"
   ]
  },
  {
   "cell_type": "markdown",
   "metadata": {},
   "source": []
  }
 ],
 "metadata": {
  "kernelspec": {
   "display_name": "Python 3",
   "language": "python",
   "name": "python3"
  },
  "language_info": {
   "codemirror_mode": {
    "name": "ipython",
    "version": 3
   },
   "file_extension": ".py",
   "mimetype": "text/x-python",
   "name": "python",
   "nbconvert_exporter": "python",
   "pygments_lexer": "ipython3",
   "version": "3.12.0"
  }
 },
 "nbformat": 4,
 "nbformat_minor": 4
}
